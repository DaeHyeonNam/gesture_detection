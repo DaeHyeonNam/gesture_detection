{
 "cells": [
  {
   "cell_type": "code",
   "execution_count": 26,
   "metadata": {},
   "outputs": [],
   "source": [
    "import os\n",
    "import matplotlib.pyplot as plt\n",
    "import tensorflow as tf"
   ]
  },
  {
   "cell_type": "code",
   "execution_count": 27,
   "metadata": {},
   "outputs": [],
   "source": [
    "train_file_path = './data/train.csv'\n",
    "test_file_path = './data/test.csv'\n",
    "LABEL_COLUMN = 'LABEL'"
   ]
  },
  {
   "cell_type": "code",
   "execution_count": 28,
   "metadata": {},
   "outputs": [],
   "source": [
    "train_dataset = tf.data.experimental.make_csv_dataset(\n",
    "      train_file_path,\n",
    "      batch_size=32, # Artificially small to make examples easier to show.\n",
    "      label_name=LABEL_COLUMN,\n",
    "      num_epochs=1\n",
    "    )"
   ]
  },
  {
   "cell_type": "code",
   "execution_count": 29,
   "metadata": {},
   "outputs": [
    {
     "name": "stdout",
     "output_type": "stream",
     "text": [
      "OrderedDict([('x1', <tf.Tensor: shape=(32,), dtype=float32, numpy=\n",
      "array([278.9886  , 241.98773 , 216.50201 , 117.87028 , 275.206   ,\n",
      "       186.58134 , 306.30536 ,  54.5434  , 254.17218 , 282.8639  ,\n",
      "       222.20087 , 235.87086 , 176.4775  , 190.43694 , 231.60284 ,\n",
      "        97.1115  , 136.90251 ,  78.45857 , 161.6933  ,  61.912743,\n",
      "       259.6211  , 122.80246 , 160.96217 , 103.05577 ,  86.18826 ,\n",
      "       130.54303 ,  27.131401, 151.03671 ,  82.65123 , 323.86972 ,\n",
      "       140.94939 , 179.32983 ], dtype=float32)>), ('y1', <tf.Tensor: shape=(32,), dtype=float32, numpy=\n",
      "array([102.67857 , 128.69836 ,  82.92018 , 115.89126 , 102.72711 ,\n",
      "       120.362755, 161.25511 , 151.08047 , 193.69783 , 208.95941 ,\n",
      "       119.69156 ,  36.852314, 203.78656 , 169.19481 , 205.81638 ,\n",
      "       298.89536 , 222.53163 , 148.09784 , 200.71942 , 137.81322 ,\n",
      "       161.34947 , 159.93776 , 160.5328  , 313.1451  , 126.08724 ,\n",
      "       143.9685  , 116.002914, 212.31995 , 103.685036, 122.95118 ,\n",
      "       166.93561 , 143.5753  ], dtype=float32)>), ('x2', <tf.Tensor: shape=(32,), dtype=float32, numpy=\n",
      "array([283.38492, 264.93948, 242.5046 , 148.4974 , 278.9879 , 190.99356,\n",
      "       307.43564,  80.15924, 257.3039 , 256.57437, 246.02295, 243.69016,\n",
      "       186.53813, 194.78612, 228.37617, 107.98353, 149.88875,  94.7157 ,\n",
      "       196.34808,  86.89113, 286.86517, 135.50108, 172.4392 , 114.91769,\n",
      "       114.65146, 165.87622,  52.62738, 125.64598,  99.60627, 319.50626,\n",
      "       173.13866, 199.20033], dtype=float32)>), ('y2', <tf.Tensor: shape=(32,), dtype=float32, numpy=\n",
      "array([128.05827 , 117.33722 ,  59.703125, 100.431915, 126.55916 ,\n",
      "       154.90108 , 186.03181 , 138.09393 , 227.23933 , 217.96631 ,\n",
      "       104.33513 ,  65.79928 , 164.51534 , 214.52766 , 229.32913 ,\n",
      "       285.45392 , 191.19939 , 113.89843 , 171.22655 , 111.069534,\n",
      "       171.55373 , 132.61989 , 156.68507 , 307.0208  , 100.258156,\n",
      "       124.146454,  93.45385 , 212.87987 , 151.17964 , 162.60295 ,\n",
      "       148.88843 , 124.63862 ], dtype=float32)>), ('x3', <tf.Tensor: shape=(32,), dtype=float32, numpy=\n",
      "array([297.33667 , 291.982   , 273.65576 , 180.44662 , 294.17636 ,\n",
      "       212.3827  , 325.43024 , 103.26138 , 276.0257  , 228.24072 ,\n",
      "       269.25052 , 247.44418 , 218.20256 , 231.63565 , 245.33086 ,\n",
      "       118.128845, 170.39488 , 120.932365, 234.03821 , 114.93126 ,\n",
      "       313.14807 , 153.4472  , 177.99358 , 124.488884, 143.42899 ,\n",
      "       199.00346 ,  78.64516 ,  99.82154 , 141.11526 , 340.26074 ,\n",
      "       198.85489 , 223.49011 ], dtype=float32)>), ('y3', <tf.Tensor: shape=(32,), dtype=float32, numpy=\n",
      "array([144.62033 , 115.920586,  49.670746,  99.97463 , 140.33174 ,\n",
      "       172.18294 , 200.29884 , 140.74352 , 257.73383 , 215.0255  ,\n",
      "       106.714935,  95.663734, 135.88463 , 244.87244 , 244.13452 ,\n",
      "       281.7493  , 170.46303 ,  86.80384 , 166.47414 ,  94.72376 ,\n",
      "       167.53107 , 113.56105 , 156.14348 , 300.6286  ,  99.97256 ,\n",
      "       124.40625 ,  81.19385 , 213.14955 , 177.04152 , 178.3611  ,\n",
      "       149.8594  , 122.25239 ], dtype=float32)>), ('x4', <tf.Tensor: shape=(32,), dtype=float32, numpy=\n",
      "array([312.7908 , 312.2702 , 301.74457, 198.84369, 309.4838 , 233.96147,\n",
      "       341.62592, 118.28051, 302.40436, 204.92184, 285.91162, 242.99414,\n",
      "       249.24287, 267.43518, 263.7148 , 125.55848, 194.47401, 149.91266,\n",
      "       262.07373, 143.6133 , 332.18484, 173.23155, 181.50531, 133.95082,\n",
      "       167.56912, 220.99014, 106.63155,  80.92147, 177.81734, 360.1658 ,\n",
      "       210.58043, 241.62045], dtype=float32)>), ('y4', <tf.Tensor: shape=(32,), dtype=float32, numpy=\n",
      "array([155.05602 , 120.63668 ,  62.175587, 121.149345, 148.30731 ,\n",
      "       176.03136 , 210.43985 , 154.12758 , 267.49106 , 208.56819 ,\n",
      "       116.51556 , 119.79094 , 119.356865, 259.74872 , 247.56213 ,\n",
      "       282.8395  , 159.04515 ,  71.60005 , 180.56839 ,  88.35223 ,\n",
      "       163.2083  , 102.67364 , 156.16808 , 297.10822 , 116.30965 ,\n",
      "       142.29059 ,  75.36111 , 207.26735 , 192.42038 , 177.04558 ,\n",
      "       161.57527 , 126.46553 ], dtype=float32)>), ('x5', <tf.Tensor: shape=(32,), dtype=float32, numpy=\n",
      "array([330.52527, 321.57047, 320.14914, 209.28998, 326.6621 , 252.59761,\n",
      "       354.11142, 128.67133, 322.71585, 192.94603, 296.5855 , 236.26903,\n",
      "       272.25443, 297.58026, 277.1276 , 130.17319, 211.4869 , 173.058  ,\n",
      "       277.53217, 162.80809, 341.54642, 188.88544, 182.27031, 143.83887,\n",
      "       185.53014, 231.5515 , 123.3458 ,  69.81555, 211.5659 , 383.39465,\n",
      "       219.61325, 251.06454], dtype=float32)>), ('y5', <tf.Tensor: shape=(32,), dtype=float32, numpy=\n",
      "array([165.31131 , 117.36008 ,  74.761536, 145.2617  , 160.80553 ,\n",
      "       173.17815 , 225.87924 , 164.0752  , 258.38647 , 203.25348 ,\n",
      "       130.40688 , 135.69205 ,  98.89334 , 284.53284 , 246.96002 ,\n",
      "       284.5407  , 149.84232 ,  55.372215, 199.74167 ,  82.18248 ,\n",
      "       159.28044 ,  92.15173 , 156.28899 , 290.4218  , 131.73868 ,\n",
      "       162.94409 ,  68.54431 , 201.19604 , 208.20758 , 164.78362 ,\n",
      "       175.09436 , 134.50119 ], dtype=float32)>), ('x6', <tf.Tensor: shape=(32,), dtype=float32, numpy=\n",
      "array([328.3083  , 308.33948 , 299.36206 , 207.67755 , 329.536   ,\n",
      "       244.5837  , 357.40793 , 116.52127 , 321.2282  , 206.58562 ,\n",
      "       292.2684  , 213.16133 , 274.4979  , 293.95038 , 279.2036  ,\n",
      "       133.10626 , 205.75458 , 163.82886 , 266.30942 , 142.75227 ,\n",
      "       336.17758 , 187.59474 , 184.96068 , 138.13007 , 161.3866  ,\n",
      "       225.70512 , 102.08125 , 102.759766, 188.75873 , 385.73853 ,\n",
      "       220.88148 , 248.3133  ], dtype=float32)>), ('y6', <tf.Tensor: shape=(32,), dtype=float32, numpy=\n",
      "array([129.11137 , 154.67606 ,  68.34314 , 100.8108  , 124.517555,\n",
      "       166.69606 , 187.1314  , 138.46425 , 253.76498 , 206.91217 ,\n",
      "       110.886345, 102.107475, 165.15059 , 218.642   , 243.53085 ,\n",
      "       299.42175 , 192.0098  , 108.1125  , 193.42764 , 121.71401 ,\n",
      "       178.76776 , 131.8536  , 167.88127 , 312.8655  , 101.4598  ,\n",
      "       128.14795 ,  92.81121 , 182.27202 , 144.52087 , 173.19258 ,\n",
      "       163.51329 , 130.25642 ], dtype=float32)>), ('x7', <tf.Tensor: shape=(32,), dtype=float32, numpy=\n",
      "array([356.62756, 332.62512, 347.0451 , 259.955  , 355.43518, 259.50037,\n",
      "       383.77832, 155.08916, 338.00183, 174.76518, 332.34256, 206.95967,\n",
      "       320.26257, 342.6367 , 291.84567, 146.22618, 245.90509, 207.63396,\n",
      "       316.26773, 185.46393, 361.48306, 221.5491 , 193.56313, 151.96922,\n",
      "       210.2398 , 277.6215 , 148.65915,  79.76508, 235.5467 , 397.04333,\n",
      "       263.68536, 285.13083], dtype=float32)>), ('y7', <tf.Tensor: shape=(32,), dtype=float32, numpy=\n",
      "array([134.09187 , 176.51645 ,  69.056206, 102.824814, 127.576904,\n",
      "       164.8928  , 193.4819  , 138.87466 , 262.20956 , 199.84644 ,\n",
      "       105.1073  , 142.95045 , 152.67838 , 227.3437  , 242.26996 ,\n",
      "       293.72745 , 184.45883 ,  98.87008 , 206.2425  , 127.9806  ,\n",
      "       162.79146 , 124.70257 , 163.80855 , 300.81143 , 105.77985 ,\n",
      "       133.36237 ,  94.722595, 167.93037 , 148.6824  , 157.6504  ,\n",
      "       167.97781 , 126.36937 ], dtype=float32)>), ('x8', <tf.Tensor: shape=(32,), dtype=float32, numpy=\n",
      "array([377.51324 , 346.3521  , 376.2777  , 289.27502 , 373.68    ,\n",
      "       251.85677 , 400.77884 , 176.48573 , 323.89435 , 161.32867 ,\n",
      "       355.10333 , 212.07765 , 347.3285  , 374.36975 , 288.55756 ,\n",
      "       151.26799 , 267.96228 , 233.61496 , 342.44775 , 208.60161 ,\n",
      "       366.36038 , 241.15344 , 193.61821 , 157.65771 , 236.37675 ,\n",
      "       305.7817  , 173.46353 ,  68.445786, 267.4563  , 391.53223 ,\n",
      "       287.15378 , 308.53452 ], dtype=float32)>), ('y8', <tf.Tensor: shape=(32,), dtype=float32, numpy=\n",
      "array([136.10817 , 190.2669  ,  73.93533 , 106.68145 , 128.38654 ,\n",
      "       165.99307 , 197.46513 , 142.44043 , 259.5533  , 194.68304 ,\n",
      "       103.583565, 157.05783 , 145.28374 , 233.92781 , 242.57538 ,\n",
      "       287.93094 , 181.42897 ,  93.947395, 217.70386 , 132.03703 ,\n",
      "       150.40854 , 120.343796, 158.8567  , 291.73053 , 110.04283 ,\n",
      "       138.5897  ,  97.07606 , 166.10591 , 150.20517 , 154.24133 ,\n",
      "       170.28943 , 124.82989 ], dtype=float32)>), ('x9', <tf.Tensor: shape=(32,), dtype=float32, numpy=\n",
      "array([394.66476, 358.11072, 394.2055 , 312.73346, 389.19595, 248.11482,\n",
      "       415.84625, 191.55171, 316.30695, 155.5945 , 371.21835, 216.79138,\n",
      "       368.84885, 403.83286, 285.38678, 153.03972, 283.5717 , 255.52602,\n",
      "       364.03467, 226.54036, 363.77158, 256.0826 , 190.343  , 160.49597,\n",
      "       256.24615, 326.76135, 192.78554,  64.7288 , 294.35464, 385.88742,\n",
      "       303.60925, 324.9473 ], dtype=float32)>), ('y9', <tf.Tensor: shape=(32,), dtype=float32, numpy=\n",
      "array([138.37059 , 199.2379  ,  76.181885, 110.26669 , 129.05536 ,\n",
      "       168.93106 , 201.2143  , 145.41924 , 256.78094 , 193.21    ,\n",
      "       103.33272 , 163.18677 , 141.00847 , 239.44473 , 244.10762 ,\n",
      "       281.9401  , 179.86317 ,  91.95149 , 226.32872 , 134.0753  ,\n",
      "       145.30714 , 117.6828  , 155.65785 , 283.71613 , 112.83297 ,\n",
      "       143.5468  ,  98.39776 , 166.29697 , 151.43106 , 156.45026 ,\n",
      "       172.9063  , 123.92124 ], dtype=float32)>), ('x10', <tf.Tensor: shape=(32,), dtype=float32, numpy=\n",
      "array([329.96585, 298.42813, 300.73563, 206.70862, 329.95172, 250.25772,\n",
      "       360.18674, 112.43401, 328.93668, 205.57812, 290.99136, 199.39308,\n",
      "       280.38052, 299.83795, 283.20972, 133.6817 , 209.37622, 168.74947,\n",
      "       256.8521 , 138.94374, 338.00165, 191.84999, 186.39827, 136.48044,\n",
      "       163.24289, 223.78851,  99.01315, 107.9352 , 189.14027, 392.83627,\n",
      "       214.48848, 249.22552], dtype=float32)>), ('y10', <tf.Tensor: shape=(32,), dtype=float32, numpy=\n",
      "array([112.691444, 168.92554 ,  96.156555, 127.24267 , 109.01754 ,\n",
      "       147.22383 , 170.64041 , 156.28772 , 231.27357 , 195.5201  ,\n",
      "       131.14131 ,  99.533356, 193.16522 , 189.72304 , 226.84528 ,\n",
      "       303.67358 , 213.95636 , 134.6547  , 220.02248 , 143.44972 ,\n",
      "       172.51341 , 151.77255 , 171.02171 , 314.1251  , 122.99859 ,\n",
      "       152.99464 , 112.70758 , 174.56085 , 115.12408 , 149.08875 ,\n",
      "       184.89545 , 150.9744  ], dtype=float32)>), ('x11', <tf.Tensor: shape=(32,), dtype=float32, numpy=\n",
      "array([361.0666 , 291.8191 , 350.1035 , 260.61426, 359.75726, 266.8386 ,\n",
      "       391.8866 , 148.15567, 341.08444, 175.18091, 335.20575, 193.62943,\n",
      "       330.99384, 354.99362, 284.1667 , 145.6676 , 251.77702, 218.71747,\n",
      "       288.20145, 182.90337, 362.1489 , 229.65707, 194.5894 , 145.79387,\n",
      "       207.8131 , 277.3947 , 148.42197,  84.44137, 240.89516, 408.45712,\n",
      "       257.3021 , 290.4563 ], dtype=float32)>), ('y11', <tf.Tensor: shape=(32,), dtype=float32, numpy=\n",
      "array([111.51005, 180.24336, 114.17666, 142.58623, 103.36718, 150.2992 ,\n",
      "       173.20859, 173.54079, 241.79439, 190.62753, 139.88615, 143.05536,\n",
      "       189.06422, 189.18404, 226.57835, 294.24088, 209.49171, 127.47875,\n",
      "       231.27118, 161.63016, 151.70587, 149.53018, 161.20958, 293.23328,\n",
      "       138.88943, 165.95718, 126.68745, 158.14345, 110.09939, 137.88249,\n",
      "       202.44392, 157.21512], dtype=float32)>), ('x12', <tf.Tensor: shape=(32,), dtype=float32, numpy=\n",
      "array([382.07547, 276.54324, 370.05072, 297.24686, 380.45892, 247.48851,\n",
      "       411.98874, 149.16988, 316.4159 , 168.90372, 362.1908 , 202.67474,\n",
      "       360.91968, 390.3277 , 264.49774, 148.60605, 278.53482, 250.65335,\n",
      "       270.9436 , 210.68547, 365.49164, 252.82487, 192.29814, 144.51208,\n",
      "       236.8917 , 310.02927, 175.87793,  75.02841, 279.68314, 399.68738,\n",
      "       282.18582, 317.39233], dtype=float32)>), ('y12', <tf.Tensor: shape=(32,), dtype=float32, numpy=\n",
      "array([109.739235, 167.00786 , 123.368805, 157.09326 , 100.66911 ,\n",
      "       152.97621 , 175.02612 , 177.69266 , 239.0067  , 187.98512 ,\n",
      "       145.03131 , 156.25258 , 184.71112 , 191.08543 , 226.16165 ,\n",
      "       287.67557 , 209.06367 , 124.25046 , 222.7713  , 173.50641 ,\n",
      "       140.41374 , 146.92644 , 155.97778 , 276.4816  , 151.69766 ,\n",
      "       174.6599  , 134.796   , 156.68152 , 110.76536 , 136.27635 ,\n",
      "       212.92285 , 162.64383 ], dtype=float32)>), ('x13', <tf.Tensor: shape=(32,), dtype=float32, numpy=\n",
      "array([401.03708, 273.18585, 385.25168, 324.395  , 399.02362, 236.37788,\n",
      "       428.8076 , 145.39127, 301.71448, 166.34074, 382.765  , 212.27971,\n",
      "       383.43134, 422.38715, 253.1042 , 150.34616, 297.0696 , 275.2646 ,\n",
      "       255.71556, 232.1454 , 364.03577, 268.1814 , 187.25777, 142.02312,\n",
      "       265.06815, 329.2289 , 199.38669,  67.45166, 314.27982, 390.99017,\n",
      "       301.36475, 339.2121 ], dtype=float32)>), ('y13', <tf.Tensor: shape=(32,), dtype=float32, numpy=\n",
      "array([109.05002 , 156.73691 , 124.324036, 168.3202  ,  98.50971 ,\n",
      "       150.16057 , 177.05232 , 175.73067 , 231.31624 , 187.99147 ,\n",
      "       149.97513 , 159.675   , 181.74796 , 191.58075 , 223.9735  ,\n",
      "       281.48126 , 209.37532 , 123.03783 , 214.53253 , 181.3865  ,\n",
      "       134.92944 , 145.85353 , 154.47653 , 263.77054 , 161.47012 ,\n",
      "       182.96622 , 141.05804 , 157.61923 , 110.98821 , 131.80338 ,\n",
      "       221.13435 , 167.64497 ], dtype=float32)>), ('x14', <tf.Tensor: shape=(32,), dtype=float32, numpy=\n",
      "array([326.62225 , 283.9382  , 291.04584 , 196.92157 , 325.30063 ,\n",
      "       250.16084 , 357.69437 , 102.882675, 330.02673 , 211.11102 ,\n",
      "       281.8442  , 195.37505 , 276.20465 , 294.83176 , 281.48975 ,\n",
      "       131.07376 , 207.13762 , 166.24039 , 241.17584 , 129.46933 ,\n",
      "       334.6286  , 190.28952 , 186.54707 , 132.77498 , 154.83006 ,\n",
      "       212.77138 ,  89.57284 , 115.63241 , 182.34248 , 393.10904 ,\n",
      "       200.88176 , 242.45424 ], dtype=float32)>), ('y14', <tf.Tensor: shape=(32,), dtype=float32, numpy=\n",
      "array([ 94.6155  , 177.63881 , 121.69149 , 151.19643 ,  93.245964,\n",
      "       127.31348 , 154.8578  , 173.90709 , 209.77913 , 184.4918  ,\n",
      "       150.94948 ,  94.02523 , 218.32812 , 158.94888 , 211.41586 ,\n",
      "       305.06763 , 234.08263 , 158.76921 , 240.37567 , 162.59059 ,\n",
      "       162.33214 , 169.7683  , 171.60542 , 310.72455 , 142.31914 ,\n",
      "       178.32541 , 132.4314  , 172.26852 ,  85.04583 , 123.7188  ,\n",
      "       203.68796 , 170.5659  ], dtype=float32)>), ('x15', <tf.Tensor: shape=(32,), dtype=float32, numpy=\n",
      "array([352.0749 , 274.74945, 322.45166, 232.15625, 347.5868 , 264.8342 ,\n",
      "       384.61426, 137.71825, 336.13184, 179.52435, 316.62234, 193.37187,\n",
      "       322.14426, 343.7635 , 281.38422, 142.51709, 245.981  , 210.71739,\n",
      "       265.86862, 155.93066, 357.42673, 225.52295, 193.60136, 140.326  ,\n",
      "       184.98329, 246.79326, 128.69801,  92.50352, 229.46686, 399.97247,\n",
      "       236.37177, 278.67252], dtype=float32)>), ('y15', <tf.Tensor: shape=(32,), dtype=float32, numpy=\n",
      "array([ 88.50339 , 183.2366  , 143.75732 , 171.04958 ,  86.17396 ,\n",
      "       131.74734 , 151.91713 , 190.66763 , 218.1967  , 177.41577 ,\n",
      "       168.86302 , 134.57788 , 221.77957 , 152.86412 , 211.3201  ,\n",
      "       296.33545 , 234.13217 , 160.69997 , 243.96284 , 180.99861 ,\n",
      "       143.95047 , 168.75534 , 160.35103 , 287.3615  , 160.27438 ,\n",
      "       192.64404 , 154.11668 , 159.15431 ,  76.308304, 114.02139 ,\n",
      "       227.28065 , 185.79599 ], dtype=float32)>), ('x16', <tf.Tensor: shape=(32,), dtype=float32, numpy=\n",
      "array([371.5514  , 264.6037  , 300.79068 , 212.32155 , 366.66266 ,\n",
      "       244.99902 , 402.92343 , 129.32613 , 307.9376  , 174.63156 ,\n",
      "       342.07443 , 202.4877  , 351.2695  , 374.58902 , 260.97284 ,\n",
      "       143.14253 , 271.31342 , 238.093   , 252.229   , 137.97003 ,\n",
      "       358.20142 , 247.17969 , 189.67627 , 135.7979  , 166.03961 ,\n",
      "       230.37042 , 114.857834,  85.09277 , 266.42883 , 375.88553 ,\n",
      "       259.2319  , 304.33713 ], dtype=float32)>), ('y16', <tf.Tensor: shape=(32,), dtype=float32, numpy=\n",
      "array([ 85.45028 , 169.4359  , 148.86928 , 166.94678 ,  83.30617 ,\n",
      "       134.35585 , 151.0178  , 190.09727 , 216.03758 , 179.48602 ,\n",
      "       178.67145 , 143.72961 , 221.83368 , 154.17635 , 211.68251 ,\n",
      "       289.88586 , 234.62238 , 162.7167  , 230.95352 , 174.78024 ,\n",
      "       133.15463 , 166.42853 , 155.0705  , 272.90903 , 158.27116 ,\n",
      "       185.94482 , 153.45955 , 156.64595 ,  72.47329 , 115.627266,\n",
      "       241.80771 , 195.95737 ], dtype=float32)>), ('x17', <tf.Tensor: shape=(32,), dtype=float32, numpy=\n",
      "array([387.52362 , 262.903   , 280.97852 , 191.006   , 383.76443 ,\n",
      "       231.77773 , 419.5244  , 116.480606, 291.44507 , 173.60193 ,\n",
      "       361.11694 , 210.36978 , 373.72998 , 401.72144 , 248.00299 ,\n",
      "       142.72531 , 289.15027 , 260.6906  , 240.10675 , 123.65473 ,\n",
      "       354.0046  , 262.4332  , 184.894   , 131.6271  , 152.04329 ,\n",
      "       210.62878 , 101.212135,  79.74696 , 297.63998 , 359.68808 ,\n",
      "       274.97812 , 322.97748 ], dtype=float32)>), ('y17', <tf.Tensor: shape=(32,), dtype=float32, numpy=\n",
      "array([ 83.1438  , 158.15166 , 143.0359  , 159.0357  ,  80.3959  ,\n",
      "       132.37013 , 151.69263 , 184.67119 , 211.36714 , 181.62773 ,\n",
      "       186.2939  , 143.65785 , 220.34445 , 155.55083 , 211.12283 ,\n",
      "       284.56906 , 234.62857 , 162.84921 , 222.47858 , 167.0577  ,\n",
      "       127.51857 , 164.38669 , 154.57877 , 262.44937 , 156.04817 ,\n",
      "       180.95001 , 150.92734 , 158.25325 ,  68.926544, 116.63027 ,\n",
      "       254.1688  , 203.8136  ], dtype=float32)>), ('x18', <tf.Tensor: shape=(32,), dtype=float32, numpy=\n",
      "array([320.4658 , 267.51202, 276.31656, 181.23149, 316.34064, 247.53159,\n",
      "       351.81268,  91.35367, 326.8047 , 221.93758, 268.49585, 196.08429,\n",
      "       262.77606, 281.3219 , 278.99918, 126.43308, 200.4282 , 156.6692 ,\n",
      "       225.22519, 117.06806, 328.94144, 184.76584, 185.98894, 126.47947,\n",
      "       144.45975, 197.91333,  76.95368, 122.99079, 169.03365, 391.36304,\n",
      "       187.24135, 230.11671], dtype=float32)>), ('y18', <tf.Tensor: shape=(32,), dtype=float32, numpy=\n",
      "array([ 78.26969 , 183.1644  , 144.11594 , 176.53362 ,  79.58906 ,\n",
      "       109.145294, 140.04593 , 190.28745 , 190.20433 , 176.66107 ,\n",
      "       169.64523 ,  86.823586, 241.08548 , 128.61183 , 196.92992 ,\n",
      "       306.08664 , 252.74188 , 180.52473 , 257.60052 , 180.53357 ,\n",
      "       152.5208  , 186.14212 , 170.71712 , 305.39563 , 162.6628  ,\n",
      "       202.82413 , 152.26308 , 172.80397 ,  58.302383, 100.45643 ,\n",
      "       218.76508 , 188.79341 ], dtype=float32)>), ('x19', <tf.Tensor: shape=(32,), dtype=float32, numpy=\n",
      "array([341.89032, 263.776  , 299.6361 , 208.95981, 334.21515, 259.41043,\n",
      "       372.57864, 120.86904, 332.08432, 194.6983 , 291.9614 , 193.75304,\n",
      "       295.0181 , 319.1556 , 279.2482 , 137.3707 , 227.79678, 191.07005,\n",
      "       245.43478, 138.6728 , 348.39276, 210.23155, 191.95978, 130.81073,\n",
      "       164.84096, 224.65053, 106.39726, 106.03667, 204.11432, 392.8866 ,\n",
      "       209.98677, 256.011  ], dtype=float32)>), ('y19', <tf.Tensor: shape=(32,), dtype=float32, numpy=\n",
      "array([ 69.10169 , 185.86275 , 158.96916 , 189.17366 ,  70.25592 ,\n",
      "       112.33111 , 131.367   , 199.25462 , 196.7041  , 169.36992 ,\n",
      "       190.29306 , 116.41231 , 253.51834 , 115.567505, 196.04576 ,\n",
      "       298.72308 , 260.9174  , 187.02502 , 249.88045 , 190.89357 ,\n",
      "       137.61566 , 192.48853 , 161.28876 , 286.02057 , 174.646   ,\n",
      "       208.37097 , 165.67696 , 163.92152 ,  43.62672 ,  95.644424,\n",
      "       226.85684 , 206.43    ], dtype=float32)>), ('x20', <tf.Tensor: shape=(32,), dtype=float32, numpy=\n",
      "array([356.564   , 258.23972 , 288.04807 , 196.62119 , 346.2523  ,\n",
      "       244.22795 , 386.71893 , 117.33455 , 311.24493 , 188.06665 ,\n",
      "       305.61923 , 197.5818  , 318.70953 , 344.56323 , 263.98322 ,\n",
      "       138.03514 , 246.33128 , 212.91399 , 233.23993 , 128.66899 ,\n",
      "       349.06302 , 227.13994 , 188.50815 , 128.04295 , 155.71321 ,\n",
      "       210.90656 , 101.403915,  97.154305, 232.64294 , 373.20267 ,\n",
      "       207.04134 , 270.1492  ], dtype=float32)>), ('y20', <tf.Tensor: shape=(32,), dtype=float32, numpy=\n",
      "array([ 66.29811 , 172.33476 , 160.2161  , 185.53558 ,  65.00496 ,\n",
      "       115.26768 , 127.38345 , 198.62941 , 196.6126  , 170.97743 ,\n",
      "       202.27623 , 124.241585, 260.84427 , 111.311485, 196.7581  ,\n",
      "       294.5724  , 267.00446 , 192.47307 , 236.60399 , 184.69682 ,\n",
      "       129.3932  , 196.78151 , 156.15048 , 276.54556 , 169.52174 ,\n",
      "       204.41672 , 162.5632  , 160.019   ,  36.34449 ,  97.18506 ,\n",
      "       221.75877 , 216.58316 ], dtype=float32)>), ('x21', <tf.Tensor: shape=(32,), dtype=float32, numpy=\n",
      "array([370.39227 , 257.94067 , 274.65842 , 178.57394 , 358.4952  ,\n",
      "       231.18303 , 401.5741  , 108.3006  , 295.69174 , 185.65546 ,\n",
      "       317.25528 , 201.18445 , 343.1216  , 371.40955 , 253.55591 ,\n",
      "       137.29913 , 263.75037 , 235.99632 , 222.53212 , 119.644966,\n",
      "       344.10373 , 243.23679 , 184.34555 , 125.98212 , 145.57748 ,\n",
      "       192.11868 ,  94.76596 ,  89.62747 , 262.04257 , 358.1048  ,\n",
      "       202.05753 , 282.10263 ], dtype=float32)>), ('y21', <tf.Tensor: shape=(32,), dtype=float32, numpy=\n",
      "array([ 67.03088 , 162.5727  , 153.54456 , 176.46004 ,  60.656796,\n",
      "       113.58482 , 125.26361 , 195.49223 , 195.01402 , 172.54996 ,\n",
      "       212.1851  , 125.15909 , 267.3861  , 107.851974, 196.67198 ,\n",
      "       289.90054 , 272.59702 , 196.91435 , 231.45886 , 176.5006  ,\n",
      "       125.72261 , 200.92035 , 155.18051 , 269.87216 , 163.47252 ,\n",
      "       200.14032 , 157.73296 , 158.8912  ,  31.87184 ,  96.578606,\n",
      "       218.80632 , 224.5332  ], dtype=float32)>)])\n"
     ]
    }
   ],
   "source": [
    "features, labels = next(iter(train_dataset))\n",
    "\n",
    "print(features)"
   ]
  },
  {
   "cell_type": "code",
   "execution_count": 30,
   "metadata": {},
   "outputs": [],
   "source": [
    "def pack_features_vector(features, labels):\n",
    "    features = tf.stack(list(features.values()), axis=1)\n",
    "    return features, labels"
   ]
  },
  {
   "cell_type": "code",
   "execution_count": 31,
   "metadata": {},
   "outputs": [],
   "source": [
    "train_dataset = train_dataset.map(pack_features_vector)"
   ]
  },
  {
   "cell_type": "code",
   "execution_count": 32,
   "metadata": {},
   "outputs": [
    {
     "name": "stdout",
     "output_type": "stream",
     "text": [
      "tf.Tensor(\n",
      "[[202.16637  117.46752  213.52473   90.64456  228.10014   81.41236\n",
      "  245.42973   74.844315 262.64667   69.35692  238.74579   98.51404\n",
      "  272.9586    89.75107  293.0303    86.25186  308.9189    83.71164\n",
      "  243.65793  116.430466 281.115    110.18436  305.72275  106.090805\n",
      "  323.11948  102.716965 246.80884  131.35342  281.53427  132.49747\n",
      "  303.15106  132.25777  319.0364   130.74756  247.51865  143.59973\n",
      "  277.0706   148.46779  293.21082  150.1341   306.34042  151.29341 ]\n",
      " [210.25139  120.95043  238.50116  109.99056  266.13663  108.84389\n",
      "  283.68408  111.17322  290.94794  108.21356  279.82587  144.58147\n",
      "  300.28406  166.17995  311.87308  181.41933  322.49506  193.27292\n",
      "  270.3851   160.51817  267.63025  176.70055  254.99255  166.80316\n",
      "  250.4643   158.52422  256.27112  174.44064  253.34268  183.41858\n",
      "  245.25095  171.30707  242.25064  163.24255  240.88527  185.6452\n",
      "  240.70401  190.43382  233.8779   177.55417  231.33717  169.5068  ]\n",
      " [ 86.23529  141.92824  105.89809  183.09952  142.9425   207.95245\n",
      "  178.33516  221.0895   206.7193   237.36876  194.30621  180.39452\n",
      "  240.21883  182.92     271.10464  184.66983  299.261    186.97255\n",
      "  194.37357  153.73921  247.95746  147.18523  283.38864  145.21289\n",
      "  312.45865  143.63585  185.67291  125.59995  234.2887   116.65247\n",
      "  266.3893   113.36461  291.8299   112.54496  170.68452   99.736755\n",
      "  206.03589   83.77542  230.74216   74.962875 255.7664    68.70973 ]\n",
      " [245.64336  219.83578  254.51888  240.04457  271.5931   250.4649\n",
      "  290.575    250.75352  305.38177  248.20491  295.53055  249.88559\n",
      "  310.90738  247.48175  303.36642  243.03851  296.73972  240.95447\n",
      "  297.1954   235.20164  308.82382  231.46384  294.63486  229.47104\n",
      "  281.4667   227.53177  293.60696  222.2057   304.8881   218.51082\n",
      "  287.43973  218.6921   272.66855  220.17265  287.29315  210.52617\n",
      "  297.5913   208.1344   288.00946  208.89882  278.18353  210.98306 ]\n",
      " [153.10075  305.42474  168.22353  301.63928  174.02858  291.5166\n",
      "  176.66075  282.19742  171.60728  273.773    186.22499  277.43692\n",
      "  201.67392  260.48     210.19398  253.9682   214.76222  250.12924\n",
      "  182.83049  276.3483   193.22939  261.0574   190.546    254.14804\n",
      "  183.98514  250.94078  176.71866  278.20905  179.85124  267.1407\n",
      "  172.81938  263.64362  164.6661   264.26132  170.0918   283.09122\n",
      "  168.93605  276.6982   163.87201  274.73486  158.32442  274.9094  ]], shape=(5, 42), dtype=float32)\n"
     ]
    }
   ],
   "source": [
    "features, labels = next(iter(train_dataset))\n",
    "\n",
    "print(features[:5])\n",
    "\n"
   ]
  },
  {
   "cell_type": "code",
   "execution_count": 38,
   "metadata": {},
   "outputs": [],
   "source": [
    "model = tf.keras.Sequential([\n",
    "  tf.keras.layers.Dense(64, activation=tf.nn.relu, input_shape=(42,)),  # 입력의 형태가 필요합니다.\n",
    "  tf.keras.layers.Dense(128, activation=tf.nn.relu),\n",
    "  tf.keras.layers.Dense(256, activation=tf.nn.relu),\n",
    "  tf.keras.layers.Dense(128, activation=tf.nn.relu),\n",
    "  tf.keras.layers.Dense(7)\n",
    "])"
   ]
  },
  {
   "cell_type": "code",
   "execution_count": 39,
   "metadata": {},
   "outputs": [],
   "source": [
    "loss_object = tf.keras.losses.SparseCategoricalCrossentropy(from_logits=True)\n",
    "def loss(model, x, y):\n",
    "    y_ = model(x)\n",
    "\n",
    "    return loss_object(y_true=y, y_pred=y_)\n",
    "\n",
    "def grad(model, inputs, targets):\n",
    "    with tf.GradientTape() as tape:\n",
    "        loss_value = loss(model, inputs, targets)\n",
    "    return loss_value, tape.gradient(loss_value, model.trainable_variables)"
   ]
  },
  {
   "cell_type": "code",
   "execution_count": 40,
   "metadata": {},
   "outputs": [],
   "source": [
    "optimizer = tf.keras.optimizers.Adam(learning_rate=0.01)"
   ]
  },
  {
   "cell_type": "code",
   "execution_count": 41,
   "metadata": {},
   "outputs": [
    {
     "name": "stdout",
     "output_type": "stream",
     "text": [
      "에포크 000: 손실: 38.816, 정확도: 25.226%\n",
      "에포크 050: 손실: 0.370, 정확도: 89.780%\n",
      "에포크 100: 손실: 0.634, 정확도: 80.983%\n",
      "에포크 150: 손실: 0.532, 정확도: 83.053%\n"
     ]
    }
   ],
   "source": [
    "\n",
    "# 도식화를 위해 결과를 저장합니다.\n",
    "train_loss_results = []\n",
    "train_accuracy_results = []\n",
    "\n",
    "num_epochs = 151\n",
    "\n",
    "for epoch in range(num_epochs):\n",
    "    epoch_loss_avg = tf.keras.metrics.Mean()\n",
    "    epoch_accuracy = tf.keras.metrics.SparseCategoricalAccuracy()\n",
    "\n",
    "  # 훈련 루프 - 32개의 배치를 사용합니다.\n",
    "    for x, y in train_dataset:\n",
    "    # 모델을 최적화합니다.\n",
    "        loss_value, grads = grad(model, x, y)\n",
    "        optimizer.apply_gradients(zip(grads, model.trainable_variables))\n",
    "\n",
    "        # 진행 상황을 추적합니다.\n",
    "        epoch_loss_avg(loss_value)  # 현재 배치 손실을 추가합니다.\n",
    "        # 예측된 레이블과 실제 레이블 비교합니다.\n",
    "        epoch_accuracy(y, model(x))\n",
    "\n",
    "  # epoch 종료\n",
    "    train_loss_results.append(epoch_loss_avg.result())\n",
    "    train_accuracy_results.append(epoch_accuracy.result())\n",
    "\n",
    "    if epoch % 50 == 0:\n",
    "        print(\"에포크 {:03d}: 손실: {:.3f}, 정확도: {:.3%}\".format(epoch,\n",
    "                                                                epoch_loss_avg.result(),\n",
    "                                                                epoch_accuracy.result()))"
   ]
  },
  {
   "cell_type": "code",
   "execution_count": 37,
   "metadata": {},
   "outputs": [
    {
     "data": {
      "image/png": "[encoded data removed]",
      "text/plain": [
       "<Figure size 864x576 with 2 Axes>"
      ]
     },
     "metadata": {
      "needs_background": "light"
     },
     "output_type": "display_data"
    }
   ],
   "source": [
    "fig, axes = plt.subplots(2, sharex=True, figsize=(12, 8))\n",
    "\n",
    "axes[0].plot(train_loss_results)\n",
    "\n",
    "axes[1].plot(train_accuracy_results)\n",
    "plt.show()"
   ]
  },
  {
   "cell_type": "code",
   "execution_count": 13,
   "metadata": {},
   "outputs": [],
   "source": [
    "test_dataset = tf.data.experimental.make_csv_dataset(\n",
    "      test_file_path,\n",
    "      batch_size=32, # Artificially small to make examples easier to show.\n",
    "      label_name=LABEL_COLUMN,\n",
    "      num_epochs=1,\n",
    "    shuffle=False\n",
    "    )\n",
    "\n",
    "test_dataset = test_dataset.map(pack_features_vector)"
   ]
  },
  {
   "cell_type": "code",
   "execution_count": 14,
   "metadata": {},
   "outputs": [
    {
     "name": "stdout",
     "output_type": "stream",
     "text": [
      "테스트 세트 정확도: 91.463%\n"
     ]
    }
   ],
   "source": [
    "test_accuracy = tf.keras.metrics.Accuracy()\n",
    "\n",
    "for (x, y) in test_dataset:\n",
    "    logits = model(x)\n",
    "    prediction = tf.argmax(logits, axis=1, output_type=tf.int32)\n",
    "    test_accuracy(prediction, y)\n",
    "\n",
    "print(\"테스트 세트 정확도: {:.3%}\".format(test_accuracy.result()))"
   ]
  },
  {
   "cell_type": "code",
   "execution_count": 22,
   "metadata": {},
   "outputs": [],
   "source": [
    "predict_dataset = tf.convert_to_tensor([\n",
    "    [5.1, 3.3, 1.7, 0.5,0.5,0.5,0.5,0.5,0.5,0.5,5.1, 3.3, 1.7, 0.5,0.5,0.5,0.5,0.5,0.5,0.5,5.1, 3.3, 1.7, 0.5,0.5,0.5,0.5,0.5,0.5,0.5,5.1, 3.3, 1.7, 0.5,0.5,0.5,0.5,0.5,0.5,0.5,3,4]\n",
    "])"
   ]
  },
  {
   "cell_type": "code",
   "execution_count": 23,
   "metadata": {},
   "outputs": [],
   "source": [
    "predictions = model(predict_dataset)"
   ]
  },
  {
   "cell_type": "code",
   "execution_count": 24,
   "metadata": {},
   "outputs": [
    {
     "name": "stdout",
     "output_type": "stream",
     "text": [
      "6\n"
     ]
    }
   ],
   "source": [
    "for i, logits in enumerate(predictions):\n",
    "    class_idx = tf.argmax(logits).numpy()\n",
    "    print(class_idx)"
   ]
  },
  {
   "cell_type": "code",
   "execution_count": 21,
   "metadata": {},
   "outputs": [],
   "source": [
    "model.save(\"./model.h5\")"
   ]
  },
  {
   "cell_type": "code",
   "execution_count": 25,
   "metadata": {},
   "outputs": [],
   "source": [
    "model.save_weights('./checkpoints/my_checkpoint')"
   ]
  },
  {
   "cell_type": "code",
   "execution_count": null,
   "metadata": {},
   "outputs": [],
   "source": []
  }
 ],
 "metadata": {
  "kernelspec": {
   "display_name": "Python 3",
   "language": "python",
   "name": "python3"
  },
  "language_info": {
   "codemirror_mode": {
    "name": "ipython",
    "version": 3
   },
   "file_extension": ".py",
   "mimetype": "text/x-python",
   "name": "python",
   "nbconvert_exporter": "python",
   "pygments_lexer": "ipython3",
   "version": "3.7.7"
  }
 },
 "nbformat": 4,
 "nbformat_minor": 4
}
